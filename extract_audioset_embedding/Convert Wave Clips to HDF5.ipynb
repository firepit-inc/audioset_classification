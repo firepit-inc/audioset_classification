{
 "cells": [
  {
   "cell_type": "code",
   "execution_count": 1,
   "metadata": {},
   "outputs": [],
   "source": [
    "import os\n",
    "import soundfile\n",
    "import librosa\n",
    "\n",
    "import tensorflow as tf\n",
    "import vggish_input\n",
    "import vggish_params\n",
    "import vggish_postprocess\n",
    "import vggish_slim\n",
    "slim = tf.contrib.slim\n",
    "\n",
    "import numpy as np\n",
    "import h5py\n",
    "\n",
    "from collections import Counter\n",
    "from pathlib import Path\n",
    "\n",
    "import boto3"
   ]
  },
  {
   "cell_type": "code",
   "execution_count": 2,
   "metadata": {},
   "outputs": [],
   "source": [
    "SEQ_LEN = 9\n",
    "NNDATA_DIR = '/media/Extra_Drive/fushigi_nn_data'\n",
    "NNDATA_NAME = '13Feb2019'\n",
    "DATA_DIR = '/media/Extra_Drive/fushigi'\n",
    "BUCKET = 'fushigi-audio'\n",
    "USERS = ['dane']"
   ]
  },
  {
   "cell_type": "code",
   "execution_count": 3,
   "metadata": {},
   "outputs": [],
   "source": [
    "# get users file names.\n",
    "boto3.setup_default_session(profile_name='hlnetworks')\n",
    "s3_client = boto3.client('s3')\n",
    "s3_resource = boto3.resource('s3')\n",
    "user2keys = {}\n",
    "bucket = s3_resource.Bucket(BUCKET)\n",
    "for o in bucket.objects.all():\n",
    "    if not o.key.endswith('.pcm'):\n",
    "        continue\n",
    "    user = o.key.split('/')[0]\n",
    "    if user not in USERS:\n",
    "        continue\n",
    "    if user not in user2keys:\n",
    "        user2keys[user] = []\n",
    "    user2keys[user].append(o.key)"
   ]
  },
  {
   "cell_type": "code",
   "execution_count": 4,
   "metadata": {},
   "outputs": [],
   "source": [
    "def read_audio(path):\n",
    "    (audio, fs) = soundfile.read(path)\n",
    "\n",
    "    #if audio.ndim > 1:\n",
    "    #    audio = np.mean(audio, axis=1)\n",
    "        \n",
    "    #if target_fs is not None and fs != target_fs:\n",
    "    #    audio = librosa.resample(audio, orig_sr=fs, target_sr=target_fs)\n",
    "    #    fs = target_fs\n",
    "        \n",
    "    return audio, fs"
   ]
  },
  {
   "cell_type": "code",
   "execution_count": 5,
   "metadata": {},
   "outputs": [
    {
     "name": "stdout",
     "output_type": "stream",
     "text": [
      "INFO:tensorflow:Restoring parameters from ../vggish_model.ckpt\n"
     ]
    }
   ],
   "source": [
    "\"\"\"Extract log mel spectrogram features. \n",
    "\"\"\"\n",
    "\n",
    "# Arguments & parameters\n",
    "#mel_bins = vggish_params.NUM_BANDS\n",
    "#sample_rate = vggish_params.SAMPLE_RATE\n",
    "#input_len = vggish_params.NUM_FRAMES\n",
    "#embedding_size = vggish_params.EMBEDDING_SIZE\n",
    "\n",
    "'''You may modify the EXAMPLE_HOP_SECONDS in vggish_params.py to change the \n",
    "hop size. '''\n",
    "\n",
    "# Paths\n",
    "checkpoint_path = os.path.join('../vggish_model.ckpt')\n",
    "pcm_params_path = os.path.join('../vggish_pca_params.npz')\n",
    "\n",
    "if not os.path.isfile(checkpoint_path):\n",
    "    raise Exception('Please download vggish_model.ckpt from '\n",
    "        'https://storage.googleapis.com/audioset/vggish_model.ckpt '\n",
    "        'and put it in the root of this codebase. ')\n",
    "\n",
    "if not os.path.isfile(pcm_params_path):\n",
    "    raise Exception('Please download pcm_params_path from '\n",
    "    'https://storage.googleapis.com/audioset/vggish_pca_params.npz '\n",
    "    'and put it in the root of this codebase. ')\n",
    "\n",
    "# Load model\n",
    "sess = tf.Session()\n",
    "\n",
    "vggish_slim.define_vggish_slim(training=False)\n",
    "vggish_slim.load_vggish_slim_checkpoint(sess, checkpoint_path)\n",
    "features_tensor = sess.graph.get_tensor_by_name(vggish_params.INPUT_TENSOR_NAME)\n",
    "embedding_tensor = sess.graph.get_tensor_by_name(vggish_params.OUTPUT_TENSOR_NAME)\n",
    "\n",
    "pproc = vggish_postprocess.Postprocessor(pcm_params_path)"
   ]
  },
  {
   "cell_type": "code",
   "execution_count": 6,
   "metadata": {},
   "outputs": [
    {
     "name": "stdout",
     "output_type": "stream",
     "text": [
      "extracted embeddings from  0  of  48  recordings\n",
      "extracted embeddings from  1  of  48  recordings\n",
      "extracted embeddings from  2  of  48  recordings\n",
      "extracted embeddings from  3  of  48  recordings\n",
      "extracted embeddings from  4  of  48  recordings\n",
      "extracted embeddings from  5  of  48  recordings\n",
      "extracted embeddings from  6  of  48  recordings\n",
      "extracted embeddings from  7  of  48  recordings\n",
      "extracted embeddings from  8  of  48  recordings\n",
      "extracted embeddings from  9  of  48  recordings\n",
      "extracted embeddings from  10  of  48  recordings\n",
      "error processing:  /media/Extra_Drive/fushigi/dane/recording_08_32_58_20190211.pcm/out00032.wav\n",
      "extracted embeddings from  11  of  48  recordings\n",
      "extracted embeddings from  12  of  48  recordings\n",
      "extracted embeddings from  13  of  48  recordings\n",
      "extracted embeddings from  14  of  48  recordings\n",
      "extracted embeddings from  15  of  48  recordings\n",
      "extracted embeddings from  16  of  48  recordings\n",
      "extracted embeddings from  17  of  48  recordings\n",
      "extracted embeddings from  18  of  48  recordings\n",
      "extracted embeddings from  19  of  48  recordings\n",
      "extracted embeddings from  20  of  48  recordings\n",
      "extracted embeddings from  21  of  48  recordings\n",
      "extracted embeddings from  22  of  48  recordings\n",
      "extracted embeddings from  23  of  48  recordings\n",
      "extracted embeddings from  24  of  48  recordings\n",
      "error processing:  /media/Extra_Drive/fushigi/dane/recording_12_25_34_20190208.pcm/out00262.wav\n",
      "extracted embeddings from  25  of  48  recordings\n",
      "extracted embeddings from  26  of  48  recordings\n",
      "extracted embeddings from  27  of  48  recordings\n",
      "error processing:  /media/Extra_Drive/fushigi/dane/recording_13_09_17_20190208.pcm/out00262.wav\n",
      "extracted embeddings from  28  of  48  recordings\n",
      "extracted embeddings from  29  of  48  recordings\n",
      "error processing:  /media/Extra_Drive/fushigi/dane/recording_13_31_08_20190208.pcm/out00262.wav\n",
      "extracted embeddings from  30  of  48  recordings\n",
      "extracted embeddings from  31  of  48  recordings\n",
      "extracted embeddings from  32  of  48  recordings\n",
      "extracted embeddings from  33  of  48  recordings\n",
      "error processing:  /media/Extra_Drive/fushigi/dane/recording_13_52_59_20190208.pcm/out00262.wav\n",
      "extracted embeddings from  34  of  48  recordings\n",
      "error processing:  /media/Extra_Drive/fushigi/dane/recording_14_14_50_20190208.pcm/out00262.wav\n",
      "extracted embeddings from  35  of  48  recordings\n",
      "error processing:  /media/Extra_Drive/fushigi/dane/recording_14_36_41_20190208.pcm/out00262.wav\n",
      "extracted embeddings from  36  of  48  recordings\n",
      "error processing:  /media/Extra_Drive/fushigi/dane/recording_14_58_32_20190208.pcm/out00262.wav\n",
      "extracted embeddings from  37  of  48  recordings\n",
      "extracted embeddings from  38  of  48  recordings\n",
      "error processing:  /media/Extra_Drive/fushigi/dane/recording_16_25_57_20190208.pcm/out00262.wav\n",
      "extracted embeddings from  39  of  48  recordings\n",
      "error processing:  /media/Extra_Drive/fushigi/dane/recording_16_47_49_20190208.pcm/out00262.wav\n",
      "extracted embeddings from  40  of  48  recordings\n",
      "error processing:  /media/Extra_Drive/fushigi/dane/recording_17_09_40_20190208.pcm/out00262.wav\n",
      "extracted embeddings from  41  of  48  recordings\n",
      "error processing:  /media/Extra_Drive/fushigi/dane/recording_17_31_31_20190208.pcm/out00262.wav\n",
      "extracted embeddings from  42  of  48  recordings\n",
      "error processing:  /media/Extra_Drive/fushigi/dane/recording_18_15_13_20190208.pcm/out00262.wav\n",
      "extracted embeddings from  43  of  48  recordings\n",
      "error processing:  /media/Extra_Drive/fushigi/dane/recording_18_37_04_20190208.pcm/out00262.wav\n",
      "extracted embeddings from  44  of  48  recordings\n",
      "error processing:  /media/Extra_Drive/fushigi/dane/recording_18_58_55_20190208.pcm/out00262.wav\n",
      "extracted embeddings from  45  of  48  recordings\n",
      "error processing:  /media/Extra_Drive/fushigi/dane/recording_19_20_46_20190208.pcm/out00262.wav\n",
      "extracted embeddings from  46  of  48  recordings\n",
      "error processing:  /media/Extra_Drive/fushigi/dane/recording_19_42_37_20190208.pcm/out00262.wav\n",
      "extracted embeddings from  47  of  48  recordings\n"
     ]
    }
   ],
   "source": [
    "# Read audio and map to embeddings\n",
    "import re\n",
    "def get_fname(key):\n",
    "    return key.split('/')[-1]\n",
    "\n",
    "outputs = []\n",
    "clip_ids = []\n",
    "errors = []\n",
    "\n",
    "nndata_path = Path(NNDATA_DIR)\n",
    "nndata_path.mkdir(exist_ok=True)\n",
    "datapath = Path(DATA_DIR)\n",
    "\n",
    "for user in USERS:\n",
    "    for k, key in enumerate(user2keys[user]):\n",
    "        pcm_fname = get_fname(key)\n",
    "        audio_dir = datapath/user/pcm_fname  # (<-- a directory of wav files)\n",
    "        ordered_fnames = sorted(os.listdir(audio_dir), \n",
    "                                key=lambda fn: int(re.search('(\\d+).wav', fn).group(1))\n",
    "                               )\n",
    "        for wav_fname in ordered_fnames:\n",
    "            try:\n",
    "                audio_path = os.path.join(audio_dir, wav_fname)\n",
    "                audio, sample_rate = read_audio(audio_path)\n",
    "\n",
    "                # Extract log mel feature\n",
    "                logmel = vggish_input.waveform_to_examples(audio, sample_rate)\n",
    "\n",
    "                # Extract embedding feature\n",
    "                [embedding_batch] = sess.run([embedding_tensor], feed_dict={features_tensor: logmel})\n",
    "\n",
    "                # PCA\n",
    "                postprocessed_batch = pproc.postprocess(embedding_batch)\n",
    "\n",
    "                clip_id = \"%s_%s_%s\" % (user, pcm_fname, wav_fname)\n",
    "                clip_ids.append(clip_id)\n",
    "                outputs.append(postprocessed_batch)\n",
    "            except:\n",
    "                print('error processing: ', str(audio_dir/wav_fname))\n",
    "                errors.append(str(audio_dir/wav_fname))\n",
    "\n",
    "        print('extracted embeddings from ', k, ' of ', len(user2keys[user]), ' recordings')"
   ]
  },
  {
   "cell_type": "code",
   "execution_count": 15,
   "metadata": {},
   "outputs": [
    {
     "data": {
      "text/plain": [
       "['/media/Extra_Drive/fushigi/dane/recording_08_32_58_20190211.pcm/out00032.wav',\n",
       " '/media/Extra_Drive/fushigi/dane/recording_12_25_34_20190208.pcm/out00262.wav',\n",
       " '/media/Extra_Drive/fushigi/dane/recording_13_09_17_20190208.pcm/out00262.wav',\n",
       " '/media/Extra_Drive/fushigi/dane/recording_13_31_08_20190208.pcm/out00262.wav',\n",
       " '/media/Extra_Drive/fushigi/dane/recording_13_52_59_20190208.pcm/out00262.wav',\n",
       " '/media/Extra_Drive/fushigi/dane/recording_14_14_50_20190208.pcm/out00262.wav',\n",
       " '/media/Extra_Drive/fushigi/dane/recording_14_36_41_20190208.pcm/out00262.wav',\n",
       " '/media/Extra_Drive/fushigi/dane/recording_14_58_32_20190208.pcm/out00262.wav',\n",
       " '/media/Extra_Drive/fushigi/dane/recording_16_25_57_20190208.pcm/out00262.wav',\n",
       " '/media/Extra_Drive/fushigi/dane/recording_16_47_49_20190208.pcm/out00262.wav',\n",
       " '/media/Extra_Drive/fushigi/dane/recording_17_09_40_20190208.pcm/out00262.wav',\n",
       " '/media/Extra_Drive/fushigi/dane/recording_17_31_31_20190208.pcm/out00262.wav',\n",
       " '/media/Extra_Drive/fushigi/dane/recording_18_15_13_20190208.pcm/out00262.wav',\n",
       " '/media/Extra_Drive/fushigi/dane/recording_18_37_04_20190208.pcm/out00262.wav',\n",
       " '/media/Extra_Drive/fushigi/dane/recording_18_58_55_20190208.pcm/out00262.wav',\n",
       " '/media/Extra_Drive/fushigi/dane/recording_19_20_46_20190208.pcm/out00262.wav',\n",
       " '/media/Extra_Drive/fushigi/dane/recording_19_42_37_20190208.pcm/out00262.wav']"
      ]
     },
     "execution_count": 15,
     "metadata": {},
     "output_type": "execute_result"
    }
   ],
   "source": [
    "errors"
   ]
  },
  {
   "cell_type": "code",
   "execution_count": 16,
   "metadata": {},
   "outputs": [],
   "source": [
    "num_feats = set([o.shape[1] for o in outputs])\n",
    "assert len(num_feats) == 1\n",
    "num_feats = num_feats.pop()\n",
    "\n",
    "for i, o in enumerate(outputs):\n",
    "    l = o.shape[0]\n",
    "    if l > SEQ_LEN:\n",
    "        outputs[i] = o[:SEQ_LEN]\n",
    "    elif l < SEQ_LEN:\n",
    "        outputs[i] = np.vstack([o, np.zeros([SEQ_LEN - l, num_feats])])"
   ]
  },
  {
   "cell_type": "code",
   "execution_count": 17,
   "metadata": {},
   "outputs": [
    {
     "data": {
      "text/plain": [
       "{(9, 128)}"
      ]
     },
     "execution_count": 17,
     "metadata": {},
     "output_type": "execute_result"
    }
   ],
   "source": [
    "outshape = set([o.shape for o in outputs])\n",
    "assert len(outshape) == 1\n",
    "outshape"
   ]
  },
  {
   "cell_type": "code",
   "execution_count": 18,
   "metadata": {},
   "outputs": [
    {
     "data": {
      "text/plain": [
       "(6212, 9, 128)"
      ]
     },
     "execution_count": 18,
     "metadata": {},
     "output_type": "execute_result"
    }
   ],
   "source": [
    "x = np.dstack(outputs)\n",
    "x = np.swapaxes(x, 0,2)\n",
    "x = np.swapaxes(x, 1,2)\n",
    "x.shape"
   ]
  },
  {
   "cell_type": "code",
   "execution_count": 19,
   "metadata": {},
   "outputs": [
    {
     "data": {
      "text/plain": [
       "(6212, 6212)"
      ]
     },
     "execution_count": 19,
     "metadata": {},
     "output_type": "execute_result"
    }
   ],
   "source": [
    "len(outputs), len(clip_ids)"
   ]
  },
  {
   "cell_type": "code",
   "execution_count": 20,
   "metadata": {},
   "outputs": [],
   "source": [
    "assert len(outputs) == len(clip_ids)"
   ]
  },
  {
   "cell_type": "code",
   "execution_count": 21,
   "metadata": {},
   "outputs": [
    {
     "data": {
      "text/plain": [
       "(6212, 527)"
      ]
     },
     "execution_count": 21,
     "metadata": {},
     "output_type": "execute_result"
    }
   ],
   "source": [
    "# create fake y's\n",
    "y = np.array([[False]*527]*x.shape[0])\n",
    "y.shape"
   ]
  },
  {
   "cell_type": "code",
   "execution_count": 22,
   "metadata": {},
   "outputs": [],
   "source": [
    "with h5py.File((Path(NNDATA_DIR)/NNDATA_NAME).with_suffix('.h5'), 'w') as f:\n",
    "    f.create_dataset('x', data=x)\n",
    "    f.create_dataset('y', data=y)\n",
    "    f.create_dataset('video_id_list', \n",
    "                     data=[bytes(f, encoding='utf8') for f in clip_ids])"
   ]
  },
  {
   "cell_type": "code",
   "execution_count": 23,
   "metadata": {},
   "outputs": [
    {
     "data": {
      "text/plain": [
       "['dane_recording_07_32_50_20190211.pcm_out00000.wav',\n",
       " 'dane_recording_07_32_50_20190211.pcm_out00001.wav',\n",
       " 'dane_recording_07_32_50_20190211.pcm_out00002.wav',\n",
       " 'dane_recording_07_32_50_20190211.pcm_out00003.wav',\n",
       " 'dane_recording_07_32_50_20190211.pcm_out00004.wav',\n",
       " 'dane_recording_07_32_50_20190211.pcm_out00005.wav',\n",
       " 'dane_recording_07_32_50_20190211.pcm_out00006.wav',\n",
       " 'dane_recording_07_32_50_20190211.pcm_out00007.wav',\n",
       " 'dane_recording_07_32_50_20190211.pcm_out00008.wav',\n",
       " 'dane_recording_07_32_50_20190211.pcm_out00009.wav',\n",
       " 'dane_recording_07_32_50_20190211.pcm_out00010.wav',\n",
       " 'dane_recording_07_32_50_20190211.pcm_out00011.wav',\n",
       " 'dane_recording_07_32_50_20190211.pcm_out00012.wav',\n",
       " 'dane_recording_07_32_50_20190211.pcm_out00013.wav',\n",
       " 'dane_recording_07_32_50_20190211.pcm_out00014.wav',\n",
       " 'dane_recording_07_32_50_20190211.pcm_out00015.wav',\n",
       " 'dane_recording_07_32_50_20190211.pcm_out00016.wav',\n",
       " 'dane_recording_07_32_50_20190211.pcm_out00017.wav',\n",
       " 'dane_recording_07_32_50_20190211.pcm_out00018.wav',\n",
       " 'dane_recording_07_32_50_20190211.pcm_out00019.wav',\n",
       " 'dane_recording_07_32_50_20190211.pcm_out00020.wav',\n",
       " 'dane_recording_07_32_50_20190211.pcm_out00021.wav',\n",
       " 'dane_recording_07_32_50_20190211.pcm_out00022.wav',\n",
       " 'dane_recording_07_32_50_20190211.pcm_out00023.wav',\n",
       " 'dane_recording_07_32_50_20190211.pcm_out00024.wav',\n",
       " 'dane_recording_07_32_50_20190211.pcm_out00025.wav',\n",
       " 'dane_recording_07_32_50_20190211.pcm_out00026.wav',\n",
       " 'dane_recording_07_32_50_20190211.pcm_out00027.wav',\n",
       " 'dane_recording_07_32_50_20190211.pcm_out00028.wav',\n",
       " 'dane_recording_07_32_50_20190211.pcm_out00029.wav',\n",
       " 'dane_recording_07_32_50_20190211.pcm_out00030.wav',\n",
       " 'dane_recording_07_32_50_20190211.pcm_out00031.wav',\n",
       " 'dane_recording_07_32_50_20190211.pcm_out00032.wav',\n",
       " 'dane_recording_07_32_50_20190211.pcm_out00033.wav',\n",
       " 'dane_recording_07_32_50_20190211.pcm_out00034.wav',\n",
       " 'dane_recording_07_32_50_20190211.pcm_out00035.wav',\n",
       " 'dane_recording_07_32_50_20190211.pcm_out00036.wav',\n",
       " 'dane_recording_07_32_50_20190211.pcm_out00037.wav',\n",
       " 'dane_recording_07_32_50_20190211.pcm_out00038.wav',\n",
       " 'dane_recording_07_32_50_20190211.pcm_out00039.wav',\n",
       " 'dane_recording_07_32_50_20190211.pcm_out00040.wav',\n",
       " 'dane_recording_07_32_50_20190211.pcm_out00041.wav',\n",
       " 'dane_recording_07_32_50_20190211.pcm_out00042.wav',\n",
       " 'dane_recording_07_32_50_20190211.pcm_out00043.wav',\n",
       " 'dane_recording_07_32_50_20190211.pcm_out00044.wav',\n",
       " 'dane_recording_07_32_50_20190211.pcm_out00045.wav',\n",
       " 'dane_recording_07_32_50_20190211.pcm_out00046.wav',\n",
       " 'dane_recording_07_32_50_20190211.pcm_out00047.wav',\n",
       " 'dane_recording_07_32_50_20190211.pcm_out00048.wav',\n",
       " 'dane_recording_07_32_50_20190211.pcm_out00049.wav',\n",
       " 'dane_recording_07_32_50_20190211.pcm_out00050.wav',\n",
       " 'dane_recording_07_32_50_20190211.pcm_out00051.wav',\n",
       " 'dane_recording_07_32_50_20190211.pcm_out00052.wav',\n",
       " 'dane_recording_07_32_50_20190211.pcm_out00053.wav',\n",
       " 'dane_recording_07_32_50_20190211.pcm_out00054.wav',\n",
       " 'dane_recording_07_32_50_20190211.pcm_out00055.wav',\n",
       " 'dane_recording_07_32_50_20190211.pcm_out00056.wav',\n",
       " 'dane_recording_07_32_50_20190211.pcm_out00057.wav',\n",
       " 'dane_recording_07_32_50_20190211.pcm_out00058.wav',\n",
       " 'dane_recording_07_32_50_20190211.pcm_out00059.wav',\n",
       " 'dane_recording_07_32_50_20190211.pcm_out00060.wav',\n",
       " 'dane_recording_07_32_50_20190211.pcm_out00061.wav',\n",
       " 'dane_recording_07_32_50_20190211.pcm_out00062.wav',\n",
       " 'dane_recording_07_32_50_20190211.pcm_out00063.wav',\n",
       " 'dane_recording_07_32_50_20190211.pcm_out00064.wav',\n",
       " 'dane_recording_07_32_50_20190211.pcm_out00065.wav',\n",
       " 'dane_recording_07_38_18_20190211.pcm_out00000.wav',\n",
       " 'dane_recording_07_38_18_20190211.pcm_out00001.wav',\n",
       " 'dane_recording_07_38_18_20190211.pcm_out00002.wav',\n",
       " 'dane_recording_07_38_18_20190211.pcm_out00003.wav',\n",
       " 'dane_recording_07_38_18_20190211.pcm_out00004.wav',\n",
       " 'dane_recording_07_38_18_20190211.pcm_out00005.wav',\n",
       " 'dane_recording_07_38_18_20190211.pcm_out00006.wav',\n",
       " 'dane_recording_07_38_18_20190211.pcm_out00007.wav',\n",
       " 'dane_recording_07_38_18_20190211.pcm_out00008.wav',\n",
       " 'dane_recording_07_38_18_20190211.pcm_out00009.wav',\n",
       " 'dane_recording_07_38_18_20190211.pcm_out00010.wav',\n",
       " 'dane_recording_07_38_18_20190211.pcm_out00011.wav',\n",
       " 'dane_recording_07_38_18_20190211.pcm_out00012.wav',\n",
       " 'dane_recording_07_38_18_20190211.pcm_out00013.wav',\n",
       " 'dane_recording_07_38_18_20190211.pcm_out00014.wav',\n",
       " 'dane_recording_07_38_18_20190211.pcm_out00015.wav',\n",
       " 'dane_recording_07_38_18_20190211.pcm_out00016.wav',\n",
       " 'dane_recording_07_38_18_20190211.pcm_out00017.wav',\n",
       " 'dane_recording_07_38_18_20190211.pcm_out00018.wav',\n",
       " 'dane_recording_07_38_18_20190211.pcm_out00019.wav',\n",
       " 'dane_recording_07_38_18_20190211.pcm_out00020.wav',\n",
       " 'dane_recording_07_38_18_20190211.pcm_out00021.wav',\n",
       " 'dane_recording_07_38_18_20190211.pcm_out00022.wav',\n",
       " 'dane_recording_07_38_18_20190211.pcm_out00023.wav',\n",
       " 'dane_recording_07_38_18_20190211.pcm_out00024.wav',\n",
       " 'dane_recording_07_38_18_20190211.pcm_out00025.wav',\n",
       " 'dane_recording_07_38_18_20190211.pcm_out00026.wav',\n",
       " 'dane_recording_07_38_18_20190211.pcm_out00027.wav',\n",
       " 'dane_recording_07_38_18_20190211.pcm_out00028.wav',\n",
       " 'dane_recording_07_38_18_20190211.pcm_out00029.wav',\n",
       " 'dane_recording_07_38_18_20190211.pcm_out00030.wav',\n",
       " 'dane_recording_07_38_18_20190211.pcm_out00031.wav',\n",
       " 'dane_recording_07_38_18_20190211.pcm_out00032.wav',\n",
       " 'dane_recording_07_38_18_20190211.pcm_out00033.wav']"
      ]
     },
     "execution_count": 23,
     "metadata": {},
     "output_type": "execute_result"
    }
   ],
   "source": [
    "clip_ids[:100]"
   ]
  }
 ],
 "metadata": {
  "kernelspec": {
   "display_name": "audioset_tensorflow",
   "language": "python",
   "name": "audioset_tensorflow"
  },
  "language_info": {
   "codemirror_mode": {
    "name": "ipython",
    "version": 3
   },
   "file_extension": ".py",
   "mimetype": "text/x-python",
   "name": "python",
   "nbconvert_exporter": "python",
   "pygments_lexer": "ipython3",
   "version": "3.6.8"
  }
 },
 "nbformat": 4,
 "nbformat_minor": 2
}
