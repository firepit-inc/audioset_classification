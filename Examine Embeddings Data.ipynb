{
 "cells": [
  {
   "cell_type": "code",
   "execution_count": 23,
   "metadata": {},
   "outputs": [],
   "source": [
    "from utils import utilities\n",
    "from pathlib import Path\n",
    "import numpy as np"
   ]
  },
  {
   "cell_type": "code",
   "execution_count": 3,
   "metadata": {},
   "outputs": [],
   "source": [
    "DATA_DIR=Path(\"/media/Extra_Drive/packed_features\")"
   ]
  },
  {
   "cell_type": "code",
   "execution_count": 5,
   "metadata": {},
   "outputs": [],
   "source": [
    "x, y, video_id_list = utilities.load_data(DATA_DIR/'bal_train.h5')"
   ]
  },
  {
   "cell_type": "code",
   "execution_count": 29,
   "metadata": {},
   "outputs": [
    {
     "name": "stdout",
     "output_type": "stream",
     "text": [
      "b'--cB2ZVjpnA'\n"
     ]
    }
   ],
   "source": [
    "video_id_list[0]"
   ]
  },
  {
   "cell_type": "code",
   "execution_count": 11,
   "metadata": {},
   "outputs": [
    {
     "data": {
      "text/plain": [
       "(22160, 10, 128)"
      ]
     },
     "execution_count": 11,
     "metadata": {},
     "output_type": "execute_result"
    }
   ],
   "source": [
    "x.shape"
   ]
  },
  {
   "cell_type": "code",
   "execution_count": 21,
   "metadata": {},
   "outputs": [
    {
     "data": {
      "text/plain": [
       "array([ 95, 122, 147,  14, 101,  48, 157, 125, 250, 245, 106, 169,  51,\n",
       "       126,  77, 145, 133,  37, 181, 159,  32, 251, 215, 136, 160, 247,\n",
       "       154,  43,  95,  27, 136,  96, 113,  61,  72, 255,  74,  91, 167,\n",
       "       106,   3, 152, 112, 255, 249,  97, 220, 255,  48, 255, 127, 255,\n",
       "        42,  24, 137, 169, 150, 224,   0,  67, 248, 166,  58,  84,   0,\n",
       "       143,  55, 100, 171, 255, 124,  69, 127,   6,   0,   0,  43,   0,\n",
       "       255, 135,  69,  79, 211, 177, 209, 186, 226,  77, 107, 149,  27,\n",
       "       255,  30, 255,   0,  28, 135, 255, 252, 111,  95, 255, 155,  92,\n",
       "        67, 227,  78,  97,   0, 255,   0,   0, 219, 113, 255, 154, 109,\n",
       "       127, 185,   0, 186,   0,  63, 255, 255,   2, 190,   0], dtype=uint8)"
      ]
     },
     "execution_count": 21,
     "metadata": {},
     "output_type": "execute_result"
    }
   ],
   "source": [
    "x[0][0]"
   ]
  },
  {
   "cell_type": "code",
   "execution_count": 13,
   "metadata": {},
   "outputs": [
    {
     "data": {
      "text/plain": [
       "(22160, 527)"
      ]
     },
     "execution_count": 13,
     "metadata": {},
     "output_type": "execute_result"
    }
   ],
   "source": [
    "y.shape"
   ]
  },
  {
   "cell_type": "code",
   "execution_count": 14,
   "metadata": {},
   "outputs": [
    {
     "data": {
      "text/plain": [
       "array([[False, False, False, ..., False, False, False],\n",
       "       [ True, False, False, ..., False, False, False],\n",
       "       [False, False, False, ..., False, False, False],\n",
       "       ...,\n",
       "       [ True, False, False, ..., False, False, False],\n",
       "       [False, False, False, ..., False, False, False],\n",
       "       [False, False, False, ..., False, False, False]])"
      ]
     },
     "execution_count": 14,
     "metadata": {},
     "output_type": "execute_result"
    }
   ],
   "source": [
    "y"
   ]
  },
  {
   "cell_type": "code",
   "execution_count": 15,
   "metadata": {},
   "outputs": [],
   "source": [
    "xt, yt = utilities.transform_data(x, y)"
   ]
  },
  {
   "cell_type": "code",
   "execution_count": 16,
   "metadata": {},
   "outputs": [
    {
     "data": {
      "text/plain": [
       "(22160, 10, 128)"
      ]
     },
     "execution_count": 16,
     "metadata": {},
     "output_type": "execute_result"
    }
   ],
   "source": [
    "xt.shape"
   ]
  },
  {
   "cell_type": "code",
   "execution_count": 17,
   "metadata": {},
   "outputs": [
    {
     "data": {
      "text/plain": [
       "array([[[-0.2578125, -0.046875 ,  0.1484375, ..., -0.984375 ,\n",
       "          0.484375 , -1.       ],\n",
       "        [-0.0390625, -0.1484375,  0.0703125, ..., -0.0390625,\n",
       "          0.09375  ,  0.9375   ],\n",
       "        [-0.59375  ,  0.0546875,  0.1875   , ..., -1.       ,\n",
       "          0.9921875, -1.       ],\n",
       "        ...,\n",
       "        [-0.1328125, -0.0546875, -0.1640625, ..., -1.       ,\n",
       "          0.9921875,  0.9921875],\n",
       "        [-0.40625  , -0.2421875,  0.3125   , ..., -0.6796875,\n",
       "          0.9921875,  0.9921875],\n",
       "        [-0.484375 ,  0.125    , -0.171875 , ..., -0.2421875,\n",
       "          0.65625  , -1.       ]],\n",
       "\n",
       "       [[-0.375    ,  0.4140625,  0.6875   , ...,  0.6171875,\n",
       "         -0.0390625,  0.8203125],\n",
       "        [-0.578125 ,  0.9921875,  0.3671875, ...,  0.9921875,\n",
       "          0.6015625, -0.5703125],\n",
       "        [-0.03125  ,  0.203125 ,  0.2890625, ..., -0.46875  ,\n",
       "          0.2890625, -1.       ],\n",
       "        ...,\n",
       "        [-0.34375  ,  0.21875  ,  0.15625  , ..., -1.       ,\n",
       "         -0.484375 ,  0.3359375],\n",
       "        [-0.390625 , -0.1484375,  0.1640625, ..., -0.9609375,\n",
       "          0.703125 ,  0.9921875],\n",
       "        [-0.4375   , -0.03125  ,  0.21875  , ...,  0.0625   ,\n",
       "          0.4140625,  0.8359375]],\n",
       "\n",
       "       [[-0.1640625,  0.171875 , -0.3046875, ...,  0.9921875,\n",
       "          0.9921875, -0.6328125],\n",
       "        [ 0.34375  ,  0.4296875,  0.3359375, ...,  0.34375  ,\n",
       "          0.3515625, -1.       ],\n",
       "        [-0.1015625,  0.25     ,  0.5      , ..., -0.78125  ,\n",
       "          0.9921875, -0.671875 ],\n",
       "        ...,\n",
       "        [-0.046875 ,  0.2265625,  0.28125  , ...,  0.9921875,\n",
       "          0.9609375, -1.       ],\n",
       "        [ 0.578125 ,  0.9140625,  0.515625 , ..., -0.5703125,\n",
       "          0.9921875, -0.1015625],\n",
       "        [ 0.6484375,  0.6875   ,  0.4921875, ...,  0.359375 ,\n",
       "          0.1484375,  0.46875  ]],\n",
       "\n",
       "       ...,\n",
       "\n",
       "       [[-0.6015625, -0.5390625,  0.1328125, ..., -1.       ,\n",
       "         -0.3125   ,  0.8671875],\n",
       "        [-0.546875 , -0.671875 ,  0.203125 , ..., -0.390625 ,\n",
       "         -0.75     ,  0.9921875],\n",
       "        [-0.515625 , -0.5546875,  0.2734375, ..., -0.7578125,\n",
       "         -1.       , -0.21875  ],\n",
       "        ...,\n",
       "        [-0.453125 , -0.3515625,  0.2890625, ...,  0.5078125,\n",
       "         -0.4765625, -1.       ],\n",
       "        [-0.4765625, -0.7265625,  0.203125 , ..., -0.5546875,\n",
       "         -0.375    ,  0.859375 ],\n",
       "        [-0.3046875, -0.7734375,  0.3203125, ..., -0.3203125,\n",
       "         -0.84375  ,  0.9921875]],\n",
       "\n",
       "       [[-0.4765625,  0.21875  , -0.5234375, ...,  0.671875 ,\n",
       "         -0.046875 , -0.1484375],\n",
       "        [-0.4921875,  0.484375 , -0.765625 , ..., -0.515625 ,\n",
       "         -0.59375  , -0.390625 ],\n",
       "        [-0.46875  ,  0.828125 , -1.       , ..., -0.7578125,\n",
       "         -0.9453125, -1.       ],\n",
       "        ...,\n",
       "        [-0.3046875,  0.7265625, -0.8671875, ..., -0.6640625,\n",
       "         -0.6328125, -1.       ],\n",
       "        [-0.75     ,  0.9921875, -1.       , ..., -0.625    ,\n",
       "         -0.484375 , -1.       ],\n",
       "        [-0.8046875,  0.90625  , -1.       , ..., -1.       ,\n",
       "         -1.       , -1.       ]],\n",
       "\n",
       "       [[-0.859375 ,  0.46875  , -0.03125  , ..., -0.6875   ,\n",
       "         -1.       , -1.       ],\n",
       "        [-0.484375 , -0.1484375,  0.1875   , ...,  0.421875 ,\n",
       "          0.0546875,  0.3125   ],\n",
       "        [ 0.03125  , -0.0078125,  0.046875 , ..., -1.       ,\n",
       "         -0.1640625, -1.       ],\n",
       "        ...,\n",
       "        [-0.109375 , -0.1015625, -0.2265625, ...,  0.3203125,\n",
       "         -0.6640625,  0.9921875],\n",
       "        [-0.15625  , -0.2578125, -0.0859375, ..., -1.       ,\n",
       "         -0.046875 ,  0.9921875],\n",
       "        [-0.0234375, -0.296875 ,  0.0234375, ..., -1.       ,\n",
       "          0.140625 ,  0.9921875]]], dtype=float32)"
      ]
     },
     "execution_count": 17,
     "metadata": {},
     "output_type": "execute_result"
    }
   ],
   "source": [
    "xt"
   ]
  },
  {
   "cell_type": "code",
   "execution_count": 25,
   "metadata": {},
   "outputs": [
    {
     "data": {
      "text/plain": [
       "95.0"
      ]
     },
     "execution_count": 25,
     "metadata": {},
     "output_type": "execute_result"
    }
   ],
   "source": [
    "xt[0][0][0]*128 + 128"
   ]
  },
  {
   "cell_type": "code",
   "execution_count": 19,
   "metadata": {},
   "outputs": [
    {
     "data": {
      "text/plain": [
       "(22160, 527)"
      ]
     },
     "execution_count": 19,
     "metadata": {},
     "output_type": "execute_result"
    }
   ],
   "source": [
    "yt.shape"
   ]
  },
  {
   "cell_type": "code",
   "execution_count": 20,
   "metadata": {},
   "outputs": [
    {
     "data": {
      "text/plain": [
       "array([[0., 0., 0., ..., 0., 0., 0.],\n",
       "       [1., 0., 0., ..., 0., 0., 0.],\n",
       "       [0., 0., 0., ..., 0., 0., 0.],\n",
       "       ...,\n",
       "       [1., 0., 0., ..., 0., 0., 0.],\n",
       "       [0., 0., 0., ..., 0., 0., 0.],\n",
       "       [0., 0., 0., ..., 0., 0., 0.]], dtype=float32)"
      ]
     },
     "execution_count": 20,
     "metadata": {},
     "output_type": "execute_result"
    }
   ],
   "source": [
    "yt"
   ]
  }
 ],
 "metadata": {
  "kernelspec": {
   "display_name": "audioset_pytorch",
   "language": "python",
   "name": "audioset_pytorch"
  },
  "language_info": {
   "codemirror_mode": {
    "name": "ipython",
    "version": 3
   },
   "file_extension": ".py",
   "mimetype": "text/x-python",
   "name": "python",
   "nbconvert_exporter": "python",
   "pygments_lexer": "ipython3",
   "version": "3.6.8"
  }
 },
 "nbformat": 4,
 "nbformat_minor": 2
}
