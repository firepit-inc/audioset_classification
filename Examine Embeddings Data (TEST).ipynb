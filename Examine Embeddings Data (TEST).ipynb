{
 "cells": [
  {
   "cell_type": "code",
   "execution_count": 1,
   "metadata": {},
   "outputs": [],
   "source": [
    "from utils import utilities\n",
    "from pathlib import Path\n",
    "import numpy as np"
   ]
  },
  {
   "cell_type": "code",
   "execution_count": 2,
   "metadata": {},
   "outputs": [],
   "source": [
    "DATA_DIR=Path(\"/media/Extra_Drive/packed_features\")"
   ]
  },
  {
   "cell_type": "code",
   "execution_count": 3,
   "metadata": {},
   "outputs": [],
   "source": [
    "x, y, video_id_list = utilities.load_data(DATA_DIR/'TEST1.h5')"
   ]
  },
  {
   "cell_type": "code",
   "execution_count": 29,
   "metadata": {},
   "outputs": [
    {
     "name": "stdout",
     "output_type": "stream",
     "text": [
      "b'--cB2ZVjpnA'\n"
     ]
    }
   ],
   "source": [
    "video_id_list[0]"
   ]
  },
  {
   "cell_type": "code",
   "execution_count": 4,
   "metadata": {},
   "outputs": [
    {
     "data": {
      "text/plain": [
       "(65, 20, 128)"
      ]
     },
     "execution_count": 4,
     "metadata": {},
     "output_type": "execute_result"
    }
   ],
   "source": [
    "x.shape"
   ]
  },
  {
   "cell_type": "code",
   "execution_count": 5,
   "metadata": {},
   "outputs": [
    {
     "data": {
      "text/plain": [
       "array([150,   2, 164,  70, 219,  87,  73, 110, 182, 171,  84,  98, 167,\n",
       "       170,   6,  84, 164,  86, 131, 212,  20, 230,  59,  75, 108, 165,\n",
       "       144,  86, 174, 138, 174, 116, 115,  65,  84, 166,  65, 140, 148,\n",
       "        35,  53, 255,   0,   0,  89,  43,  31, 104,  84, 195, 127,   4,\n",
       "        76, 136, 151,  81, 118,  62,  54, 208, 163, 117,  38, 178, 116,\n",
       "       102,  48,  54, 133, 162, 129, 255, 255, 255, 166, 117,   5, 145,\n",
       "       126, 255,   0, 119, 236, 224,  60,  27, 213, 239, 111, 171, 153,\n",
       "       255, 230, 255, 202, 162,  62,   0, 255, 255, 230,  35,  44, 154,\n",
       "       202, 126, 174, 153, 128, 110, 255, 255, 255, 102, 214, 104, 255,\n",
       "       217,   0, 188, 198,  85, 171,  58, 173,   0,   0, 255], dtype=uint8)"
      ]
     },
     "execution_count": 5,
     "metadata": {},
     "output_type": "execute_result"
    }
   ],
   "source": [
    "x[0][0]"
   ]
  },
  {
   "cell_type": "code",
   "execution_count": 13,
   "metadata": {},
   "outputs": [
    {
     "data": {
      "text/plain": [
       "(22160, 527)"
      ]
     },
     "execution_count": 13,
     "metadata": {},
     "output_type": "execute_result"
    }
   ],
   "source": [
    "y.shape"
   ]
  },
  {
   "cell_type": "code",
   "execution_count": 10,
   "metadata": {},
   "outputs": [
    {
     "data": {
      "text/plain": [
       "array([[False, False, False, ..., False, False, False],\n",
       "       [False, False, False, ..., False, False, False],\n",
       "       [False, False, False, ..., False, False, False],\n",
       "       ...,\n",
       "       [False, False, False, ..., False, False, False],\n",
       "       [False, False, False, ..., False, False, False],\n",
       "       [False, False, False, ..., False, False, False]])"
      ]
     },
     "execution_count": 10,
     "metadata": {},
     "output_type": "execute_result"
    }
   ],
   "source": [
    "y"
   ]
  },
  {
   "cell_type": "code",
   "execution_count": 6,
   "metadata": {},
   "outputs": [],
   "source": [
    "xt, yt = utilities.transform_data(x, y)"
   ]
  },
  {
   "cell_type": "code",
   "execution_count": 7,
   "metadata": {},
   "outputs": [
    {
     "data": {
      "text/plain": [
       "(65, 20, 128)"
      ]
     },
     "execution_count": 7,
     "metadata": {},
     "output_type": "execute_result"
    }
   ],
   "source": [
    "xt.shape"
   ]
  },
  {
   "cell_type": "code",
   "execution_count": 8,
   "metadata": {},
   "outputs": [
    {
     "data": {
      "text/plain": [
       "array([[[ 0.171875 , -0.984375 ,  0.28125  , ..., -1.       ,\n",
       "         -1.       ,  0.9921875],\n",
       "        [ 0.1796875, -0.953125 ,  0.25     , ..., -1.       ,\n",
       "         -1.       ,  0.9921875],\n",
       "        [ 0.171875 , -0.9609375,  0.296875 , ..., -1.       ,\n",
       "         -1.       ,  0.9921875],\n",
       "        ...,\n",
       "        [ 0.1796875, -1.       ,  0.34375  , ..., -1.       ,\n",
       "         -1.       ,  0.9921875],\n",
       "        [ 0.1640625, -0.9921875,  0.34375  , ..., -1.       ,\n",
       "         -1.       ,  0.9921875],\n",
       "        [ 0.1796875, -0.9609375,  0.3359375, ..., -1.       ,\n",
       "         -1.       ,  0.9921875]],\n",
       "\n",
       "       [[ 0.1875   , -0.96875  ,  0.234375 , ..., -1.       ,\n",
       "         -1.       ,  0.9921875],\n",
       "        [ 0.2265625, -0.890625 ,  0.28125  , ...,  0.90625  ,\n",
       "         -1.       ,  0.9921875],\n",
       "        [ 0.203125 , -0.9140625,  0.3203125, ...,  0.5078125,\n",
       "         -0.5390625,  0.9921875],\n",
       "        ...,\n",
       "        [ 0.1875   , -1.       ,  0.3203125, ..., -1.       ,\n",
       "         -1.       ,  0.9921875],\n",
       "        [ 0.1875   , -0.9921875,  0.2734375, ..., -1.       ,\n",
       "         -1.       ,  0.9921875],\n",
       "        [ 0.1953125, -1.       ,  0.34375  , ..., -1.       ,\n",
       "         -1.       ,  0.9921875]],\n",
       "\n",
       "       [[ 0.2109375, -0.9375   ,  0.40625  , ..., -1.       ,\n",
       "         -1.       ,  0.9921875],\n",
       "        [ 0.1875   , -0.96875  ,  0.3125   , ..., -1.       ,\n",
       "         -1.       ,  0.9921875],\n",
       "        [ 0.21875  , -0.9609375,  0.3125   , ..., -1.       ,\n",
       "         -1.       ,  0.9921875],\n",
       "        ...,\n",
       "        [ 0.2421875, -0.8828125,  0.359375 , ...,  0.3984375,\n",
       "         -0.40625  ,  0.9921875],\n",
       "        [ 0.28125  , -0.90625  ,  0.359375 , ...,  0.296875 ,\n",
       "          0.1328125,  0.9921875],\n",
       "        [ 0.3203125, -0.890625 ,  0.3515625, ..., -0.4765625,\n",
       "         -0.03125  ,  0.9921875]],\n",
       "\n",
       "       ...,\n",
       "\n",
       "       [[ 0.1875   , -0.9765625,  0.203125 , ..., -1.       ,\n",
       "         -1.       ,  0.9921875],\n",
       "        [ 0.171875 , -0.984375 ,  0.2421875, ..., -1.       ,\n",
       "         -1.       ,  0.9921875],\n",
       "        [ 0.1875   , -0.984375 ,  0.2734375, ..., -1.       ,\n",
       "         -1.       ,  0.9921875],\n",
       "        ...,\n",
       "        [ 0.171875 , -1.       ,  0.2890625, ..., -1.       ,\n",
       "         -0.6640625,  0.9921875],\n",
       "        [ 0.1953125, -0.9453125,  0.3046875, ..., -1.       ,\n",
       "         -1.       ,  0.9921875],\n",
       "        [ 0.203125 , -1.       ,  0.328125 , ..., -1.       ,\n",
       "         -1.       ,  0.9921875]],\n",
       "\n",
       "       [[ 0.2109375, -0.9375   ,  0.421875 , ..., -1.       ,\n",
       "         -1.       ,  0.9921875],\n",
       "        [ 0.203125 , -0.96875  ,  0.28125  , ..., -1.       ,\n",
       "         -0.4140625,  0.9921875],\n",
       "        [ 0.1796875, -0.9609375,  0.25     , ..., -1.       ,\n",
       "         -0.484375 ,  0.9921875],\n",
       "        ...,\n",
       "        [ 0.203125 , -0.9375   ,  0.359375 , ..., -1.       ,\n",
       "         -1.       ,  0.9921875],\n",
       "        [ 0.234375 , -0.90625  ,  0.4375   , ..., -1.       ,\n",
       "         -1.       ,  0.9921875],\n",
       "        [ 0.2109375, -0.953125 ,  0.3046875, ..., -1.       ,\n",
       "         -0.6328125,  0.9921875]],\n",
       "\n",
       "       [[ 0.2421875, -0.984375 ,  0.4140625, ...,  0.3671875,\n",
       "         -0.1015625,  0.9921875],\n",
       "        [ 0.21875  , -0.9609375,  0.3046875, ..., -1.       ,\n",
       "         -1.       ,  0.9921875],\n",
       "        [ 0.21875  , -0.9609375,  0.375    , ..., -1.       ,\n",
       "         -0.8203125,  0.9921875],\n",
       "        ...,\n",
       "        [ 0.234375 , -0.875    ,  0.4140625, ..., -1.       ,\n",
       "         -1.       ,  0.9921875],\n",
       "        [ 0.234375 , -0.9375   ,  0.3203125, ..., -1.       ,\n",
       "         -1.       ,  0.9921875],\n",
       "        [ 0.1875   , -0.9921875,  0.21875  , ..., -1.       ,\n",
       "         -0.84375  ,  0.9921875]]], dtype=float32)"
      ]
     },
     "execution_count": 8,
     "metadata": {},
     "output_type": "execute_result"
    }
   ],
   "source": [
    "xt"
   ]
  },
  {
   "cell_type": "code",
   "execution_count": 9,
   "metadata": {},
   "outputs": [
    {
     "data": {
      "text/plain": [
       "150.0"
      ]
     },
     "execution_count": 9,
     "metadata": {},
     "output_type": "execute_result"
    }
   ],
   "source": [
    "xt[0][0][0]*128 + 128"
   ]
  },
  {
   "cell_type": "code",
   "execution_count": 19,
   "metadata": {},
   "outputs": [
    {
     "data": {
      "text/plain": [
       "(22160, 527)"
      ]
     },
     "execution_count": 19,
     "metadata": {},
     "output_type": "execute_result"
    }
   ],
   "source": [
    "yt.shape"
   ]
  },
  {
   "cell_type": "code",
   "execution_count": 11,
   "metadata": {},
   "outputs": [
    {
     "data": {
      "text/plain": [
       "array([[0., 0., 0., ..., 0., 0., 0.],\n",
       "       [0., 0., 0., ..., 0., 0., 0.],\n",
       "       [0., 0., 0., ..., 0., 0., 0.],\n",
       "       ...,\n",
       "       [0., 0., 0., ..., 0., 0., 0.],\n",
       "       [0., 0., 0., ..., 0., 0., 0.],\n",
       "       [0., 0., 0., ..., 0., 0., 0.]], dtype=float32)"
      ]
     },
     "execution_count": 11,
     "metadata": {},
     "output_type": "execute_result"
    }
   ],
   "source": [
    "yt"
   ]
  }
 ],
 "metadata": {
  "kernelspec": {
   "display_name": "audioset_pytorch",
   "language": "python",
   "name": "audioset_pytorch"
  },
  "language_info": {
   "codemirror_mode": {
    "name": "ipython",
    "version": 3
   },
   "file_extension": ".py",
   "mimetype": "text/x-python",
   "name": "python",
   "nbconvert_exporter": "python",
   "pygments_lexer": "ipython3",
   "version": "3.6.8"
  }
 },
 "nbformat": 4,
 "nbformat_minor": 2
}
